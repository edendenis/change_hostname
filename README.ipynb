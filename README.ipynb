{
 "cells": [
  {
   "cell_type": "markdown",
   "metadata": {},
   "source": [
    "# Como configurar/instalar/usar o `hostname` no `Linux Ubuntu`\n",
    "\n",
    "## Resumo\n",
    "\n",
    "Neste documento estão contidos os principais comandos e configurações para configurar/instalar/usar o `hostname` no `Linux Ubuntu`.\n",
    "\n",
    "## _Abstract_\n",
    "\n",
    "_This document contains the main commands and settings for configuring/installing/using the `hostname` on `Linux Ubuntu`._"
   ]
  },
  {
   "cell_type": "markdown",
   "metadata": {},
   "source": [
    "## Descrição [2]\n",
    "\n",
    "### `hostname`\n",
    "\n",
    "Um nome de host é um rótulo exclusivo atribuído a um dispositivo conectado a uma rede de computadores. Ele serve como um identificador legível para esse dispositivo, permitindo distingui-lo facilmente de outros dispositivos na rede. Você pode pensar nisso como o nome do seu computador ou de outros dispositivos habilitados para rede.\n"
   ]
  },
  {
   "cell_type": "markdown",
   "metadata": {},
   "source": [
    "## 1. Como configurar/instalar/usar o `thunar com o sudo` no `Linux Ubuntu` [1][3]\n",
    "\n",
    "Para configurar/instalar/usar o `thunar com o sudo` no `Linux Ubuntu`, você pode seguir estes passos:\n",
    "\n",
    "1. Abra o terminal. Você pode fazer isso pressionando: `Ctrl + Alt + T`"
   ]
  },
  {
   "cell_type": "markdown",
   "metadata": {},
   "source": [
    "2. Certifique-se de que seu sistema esteja limpo e atualizado.\n",
    "\n",
    "    2.1 Limpar o `cache` do gerenciador de pacotes APT. Especificamente, ele remove todos os arquivos de pacotes (`.deb`) baixados pelo APT e armazenados em `/var/cache/apt/archives/`. Digite o seguinte comando: `sudo apt clean` \n",
    "    \n",
    "    2.2 Remover pacotes `.deb` antigos ou duplicados do cache local. É útil para liberar espaço, pois remove apenas os pacotes que não podem mais ser baixados (ou seja, versões antigas de pacotes que foram atualizados). Digite o seguinte comando: `sudo apt autoclean`\n",
    "\n",
    "    2.3 Remover pacotes que foram automaticamente instalados para satisfazer as dependências de outros pacotes e que não são mais necessários. Digite o seguinte comando: `sudo apt autoremove -y`\n",
    "\n",
    "    2.4 Buscar as atualizações disponíveis para os pacotes que estão instalados em seu sistema. Digite o seguinte comando e pressione `Enter`: `sudo apt update -y`\n",
    "\n",
    "    2.5 Para ver a lista de pacotes a serem atualizados, digite o seguinte comando e pressione `Enter`:  `sudo apt list --upgradable`\n",
    "\n",
    "    2.6 Realmente atualizar os pacotes instalados para as suas versões mais recentes, com base na última vez que você executou `sudo apt update -y`. Digite o seguinte comando e pressione `Enter`: `sudo apt full-upgrade -y`\n",
    "\n",
    "    2.7 Remover pacotes que foram automaticamente instalados para satisfazer as dependências de outros pacotes e que não são mais necessários. Digite o seguinte comando: `sudo apt autoremove -y`\n",
    "\n",
    "    2.8 Remover pacotes `.deb` antigos ou duplicados do cache local. É útil para liberar espaço, pois remove apenas os pacotes que não podem mais ser baixados (ou seja, versões antigas de pacotes que foram atualizados). Digite o seguinte comando: `sudo apt autoclean`"
   ]
  },
  {
   "cell_type": "markdown",
   "metadata": {},
   "source": [
    "Para alterar o `hostname` no `Linux Ubuntu` através do `Terminal`, você pode seguir os seguintes passos:\n",
    "\n",
    "1. **Abrir o Terminal:** Você pode abrir o Terminal pressionando: `Ctrl + Alt + T`\n",
    "\n",
    "2. **Verificar o `hostname` atual:** Antes de alterar o `hostname`, pode ser útil saber qual é o atual. Você pode verificar isso usando o comando: `hostname`\n",
    "\n",
    "    Este comando retornará o `hostname` atual do seu sistema.\n",
    "\n",
    "3. **Permissões de Arquivo:** Alterar arquivos importantes do sistema pode às vezes alterar inadvertidamente suas permissões. Verifique se as permissões dos arquivos estão corretas. Normalmente, ambos deveriam ter permissões de leitura para todos os usuários: `sudo chmod 644 /etc/hostname /etc/hosts`\n",
    "\n",
    "4. **Alterar o `hostname` permanentemente:** Para alterar o `hostname` de forma permanente, você precisa editar o arquivo `/etc/hostname` e o arquivo `/etc/hosts`:\n",
    "\n",
    "    4.1 **Edite o arquivo `/etc/hostname`:** `sudo nano /etc/hostname`\n",
    "\n",
    "    4.1.1 Apague o `hostname` atual e substitua pelo novo `hostname`. Salve e feche o arquivo pressionando `Ctrl + X`, confirme com `Y` e pressione `Enter`.\n",
    "\n",
    "    4.2 **Edite o arquivo `/etc/hosts`:**  `sudo nano /etc/hosts`\n",
    "\n",
    "    4.2.1 Encontre a linha que começa com `127.0.1.1` ou qualquer outra linha que contenha o `hostname` antigo. Substitua o `hostname` antigo pelo novo e salve o arquivo da mesma forma que o anterior.\n",
    "\n",
    "5. **Corrigir o Nome de Host em IPv4 e IPv6:** Para IPv4 (`127.0.0.1` e `127.0.1.1`) e IPv6 (`::1`), você deve garantir que o novo hostname esteja listado corretamente. Aqui está um exemplo se você quiser mudar para um novo hostname, digamos `edenedfsls`:\n",
    "\n",
    "    ```\n",
    "    Copy code\n",
    "    127.0.0.1       localhost\n",
    "    127.0.1.1       edenedfsls\n",
    "\n",
    "    # The following lines are desirable for IPv6 capable hosts\n",
    "    ::1     localhost ip6-localhost ip6-loopback edenedfsls\n",
    "    fe00::0 ip6-localnet\n",
    "    ff00::0 ip6-mcastprefix\n",
    "    ff02::1 ip6-allnodes\n",
    "    ff02::2 ip6-allrouters\n",
    "    ```\n",
    "\n",
    "**Neste exemplo:**\n",
    "\n",
    "- `localhost` ainda está associado a `127.0.0.1` e `::1` porque você sempre quer manter o acesso local padrão.\n",
    "\n",
    "- O novo hostname `edenedfsls` está colocado em `127.0.1.1` para IPv4 e também adicionado ao `::1` para IPv6, junto com os outros nomes padrão de loopback.\n",
    "\n",
    "6. **Verificar Configuração**: \n",
    "\n",
    "    6.1 Após reiniciar, você pode verificar o hostname atual com: `hostname`\n",
    "\n",
    "    6.2 E verificar a resolução de nome com: `ping edenedfsls`\n",
    "\n",
    "7. **Reinicie o sistema:** Para que a alteração seja aplicada, você pode reiniciar o sistema com o comando: `sudo systemctl reboot`\n",
    "\n",
    "    7.1 Após reiniciar, seu Ubuntu deverá estar com o `hostname` atualizado.\n",
    "\n",
    "A alteração do `hostname` no `Ubuntu`, seguindo os passos mencionados, afeta o sistema como um todo, e não apenas um usuário específico. O `hostname` é uma identidade do sistema inteiro, e não é algo que se aplica a contas de usuário individuais. Portanto, quando você altera o `hostname` utilizando os métodos descritos (editando `/etc/hostname` e `/etc/hosts`), essa mudança é refletida em todo o sistema, independentemente de qual usuário esteja logado.\n",
    "\n",
    "Isso significa que qualquer usuário que acessar o sistema, seja localmente ou remotamente, verá o novo `hostname` como a identificação do sistema. Esse `hostname` é utilizado em várias situações de rede e de identificação do sistema, como durante sessões SSH, exibição em redes, e em logs de sistema, entre outros."
   ]
  },
  {
   "cell_type": "markdown",
   "metadata": {
    "vscode": {
     "languageId": "plaintext"
    }
   },
   "source": [
    "### 1.1 Código completo para configurar/instalar/usar\n",
    "\n",
    "Para configurar/instalar/usar o `hostname` no `Linux Ubuntu` sem precisar digitar linha por linha, você pode seguir estas etapas:\n",
    "\n",
    "1. Abra o terminal. Você pode fazer isso pressionando: `Ctrl + Alt + T`\n",
    "\n",
    "2. Digite o seguinte comando e pressione `Enter`:\n",
    "\n",
    "    ```\n",
    "    NÃO há.\n",
    "    ```\n"
   ]
  },
  {
   "cell_type": "markdown",
   "metadata": {
    "vscode": {
     "languageId": "plaintext"
    }
   },
   "source": [
    "## Referências\n",
    "\n",
    "[1] OPENAI. ***Alterar o hostname no ubuntu.*** Disponível em: <https://chat.openai.com/c/c7e97cab-38be-4bf9-ab01-be9063822dbc> (texto adaptado). Acessado em: 18/03/2023 17:11.\n",
    "\n",
    "[2] OPENAI. ***Vs code: editor popular.*** Disponível em: <https://chat.openai.com/c/b640a25d-f8e3-4922-8a3b-ed74a2657e42> (texto adaptado). Acessado em: 18/03/2024 17:10.\n"
   ]
  }
 ],
 "metadata": {
  "kernelspec": {
   "display_name": "Python 3",
   "language": "python",
   "name": "python3"
  },
  "language_info": {
   "codemirror_mode": {
    "name": "ipython",
    "version": 3
   },
   "file_extension": ".py",
   "mimetype": "text/x-python",
   "name": "python",
   "nbconvert_exporter": "python",
   "pygments_lexer": "ipython3",
   "version": "3.11.8"
  },
  "orig_nbformat": 4
 },
 "nbformat": 4,
 "nbformat_minor": 2
}
